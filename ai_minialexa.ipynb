{
 "cells": [
  {
   "cell_type": "code",
   "execution_count": 1,
   "metadata": {
    "scrolled": true
   },
   "outputs": [
    {
     "name": "stdout",
     "output_type": "stream",
     "text": [
      "Requirement already satisfied: pywhatkit in c:\\users\\raghavendra\\anaconda3\\anaconda\\lib\\site-packages (5.2)\n",
      "Requirement already satisfied: pyautogui in c:\\users\\raghavendra\\anaconda3\\anaconda\\lib\\site-packages (from pywhatkit) (0.9.53)\n",
      "Requirement already satisfied: requests in c:\\users\\raghavendra\\anaconda3\\anaconda\\lib\\site-packages (from pywhatkit) (2.24.0)\n",
      "Requirement already satisfied: wikipedia in c:\\users\\raghavendra\\anaconda3\\anaconda\\lib\\site-packages (from pywhatkit) (1.4.0)\n",
      "Requirement already satisfied: Pillow in c:\\users\\raghavendra\\anaconda3\\anaconda\\lib\\site-packages (from pywhatkit) (8.0.1)Note: you may need to restart the kernel to use updated packages.\n",
      "\n",
      "Requirement already satisfied: PyTweening>=1.0.1 in c:\\users\\raghavendra\\anaconda3\\anaconda\\lib\\site-packages (from pyautogui->pywhatkit) (1.0.4)\n",
      "Requirement already satisfied: pymsgbox in c:\\users\\raghavendra\\anaconda3\\anaconda\\lib\\site-packages (from pyautogui->pywhatkit) (1.0.9)\n",
      "Requirement already satisfied: pyscreeze>=0.1.21 in c:\\users\\raghavendra\\anaconda3\\anaconda\\lib\\site-packages (from pyautogui->pywhatkit) (0.1.28)\n",
      "Requirement already satisfied: mouseinfo in c:\\users\\raghavendra\\anaconda3\\anaconda\\lib\\site-packages (from pyautogui->pywhatkit) (0.1.3)\n",
      "Requirement already satisfied: pygetwindow>=0.0.5 in c:\\users\\raghavendra\\anaconda3\\anaconda\\lib\\site-packages (from pyautogui->pywhatkit) (0.0.9)\n",
      "Requirement already satisfied: urllib3!=1.25.0,!=1.25.1,<1.26,>=1.21.1 in c:\\users\\raghavendra\\anaconda3\\anaconda\\lib\\site-packages (from requests->pywhatkit) (1.25.11)\n",
      "Requirement already satisfied: certifi>=2017.4.17 in c:\\users\\raghavendra\\anaconda3\\anaconda\\lib\\site-packages (from requests->pywhatkit) (2020.6.20)\n",
      "Requirement already satisfied: idna<3,>=2.5 in c:\\users\\raghavendra\\anaconda3\\anaconda\\lib\\site-packages (from requests->pywhatkit) (2.10)\n",
      "Requirement already satisfied: chardet<4,>=3.0.2 in c:\\users\\raghavendra\\anaconda3\\anaconda\\lib\\site-packages (from requests->pywhatkit) (3.0.4)\n",
      "Requirement already satisfied: beautifulsoup4 in c:\\users\\raghavendra\\anaconda3\\anaconda\\lib\\site-packages (from wikipedia->pywhatkit) (4.9.3)\n",
      "Requirement already satisfied: pyperclip in c:\\users\\raghavendra\\anaconda3\\anaconda\\lib\\site-packages (from mouseinfo->pyautogui->pywhatkit) (1.8.2)\n",
      "Requirement already satisfied: pyrect in c:\\users\\raghavendra\\anaconda3\\anaconda\\lib\\site-packages (from pygetwindow>=0.0.5->pyautogui->pywhatkit) (0.1.4)\n",
      "Requirement already satisfied: soupsieve>1.2; python_version >= \"3.0\" in c:\\users\\raghavendra\\anaconda3\\anaconda\\lib\\site-packages (from beautifulsoup4->wikipedia->pywhatkit) (2.0.1)\n"
     ]
    }
   ],
   "source": [
    "pip install pywhatkit"
   ]
  },
  {
   "cell_type": "code",
   "execution_count": 2,
   "metadata": {},
   "outputs": [
    {
     "name": "stdout",
     "output_type": "stream",
     "text": [
      "Requirement already satisfied: SpeechRecognition in c:\\users\\raghavendra\\anaconda3\\anaconda\\lib\\site-packages (3.8.1)\n",
      "Note: you may need to restart the kernel to use updated packages.\n"
     ]
    }
   ],
   "source": [
    "pip install SpeechRecognition"
   ]
  },
  {
   "cell_type": "code",
   "execution_count": 3,
   "metadata": {},
   "outputs": [
    {
     "name": "stdout",
     "output_type": "stream",
     "text": [
      "Requirement already satisfied: pyjokes in c:\\users\\raghavendra\\anaconda3\\anaconda\\lib\\site-packages (0.6.0)\n",
      "Note: you may need to restart the kernel to use updated packages.\n"
     ]
    }
   ],
   "source": [
    "pip install pyjokes"
   ]
  },
  {
   "cell_type": "code",
   "execution_count": 4,
   "metadata": {
    "scrolled": true
   },
   "outputs": [
    {
     "name": "stdout",
     "output_type": "stream",
     "text": [
      "Requirement already satisfied: wikipedia in c:\\users\\raghavendra\\anaconda3\\anaconda\\lib\\site-packages (1.4.0)\n",
      "Requirement already satisfied: requests<3.0.0,>=2.0.0 in c:\\users\\raghavendra\\anaconda3\\anaconda\\lib\\site-packages (from wikipedia) (2.24.0)\n",
      "Requirement already satisfied: beautifulsoup4 in c:\\users\\raghavendra\\anaconda3\\anaconda\\lib\\site-packages (from wikipedia) (4.9.3)\n",
      "Requirement already satisfied: chardet<4,>=3.0.2 in c:\\users\\raghavendra\\anaconda3\\anaconda\\lib\\site-packages (from requests<3.0.0,>=2.0.0->wikipedia) (3.0.4)\n",
      "Requirement already satisfied: idna<3,>=2.5 in c:\\users\\raghavendra\\anaconda3\\anaconda\\lib\\site-packages (from requests<3.0.0,>=2.0.0->wikipedia) (2.10)\n",
      "Requirement already satisfied: certifi>=2017.4.17 in c:\\users\\raghavendra\\anaconda3\\anaconda\\lib\\site-packages (from requests<3.0.0,>=2.0.0->wikipedia) (2020.6.20)\n",
      "Requirement already satisfied: urllib3!=1.25.0,!=1.25.1,<1.26,>=1.21.1 in c:\\users\\raghavendra\\anaconda3\\anaconda\\lib\\site-packages (from requests<3.0.0,>=2.0.0->wikipedia) (1.25.11)\n",
      "Requirement already satisfied: soupsieve>1.2; python_version >= \"3.0\" in c:\\users\\raghavendra\\anaconda3\\anaconda\\lib\\site-packages (from beautifulsoup4->wikipedia) (2.0.1)\n",
      "Note: you may need to restart the kernel to use updated packages.\n"
     ]
    }
   ],
   "source": [
    "pip install wikipedia"
   ]
  },
  {
   "cell_type": "code",
   "execution_count": 5,
   "metadata": {
    "scrolled": true
   },
   "outputs": [
    {
     "name": "stdout",
     "output_type": "stream",
     "text": [
      "Requirement already satisfied: pywhatkit in c:\\users\\raghavendra\\anaconda3\\anaconda\\lib\\site-packages (5.2)\n",
      "Requirement already satisfied: pyautogui in c:\\users\\raghavendra\\anaconda3\\anaconda\\lib\\site-packages (from pywhatkit) (0.9.53)\n",
      "Requirement already satisfied: Pillow in c:\\users\\raghavendra\\anaconda3\\anaconda\\lib\\site-packages (from pywhatkit) (8.0.1)\n",
      "Requirement already satisfied: wikipedia in c:\\users\\raghavendra\\anaconda3\\anaconda\\lib\\site-packages (from pywhatkit) (1.4.0)\n",
      "Requirement already satisfied: requests in c:\\users\\raghavendra\\anaconda3\\anaconda\\lib\\site-packages (from pywhatkit) (2.24.0)\n",
      "Requirement already satisfied: pygetwindow>=0.0.5 in c:\\users\\raghavendra\\anaconda3\\anaconda\\lib\\site-packages (from pyautogui->pywhatkit) (0.0.9)\n",
      "Requirement already satisfied: pyscreeze>=0.1.21 in c:\\users\\raghavendra\\anaconda3\\anaconda\\lib\\site-packages (from pyautogui->pywhatkit) (0.1.28)\n",
      "Requirement already satisfied: PyTweening>=1.0.1 in c:\\users\\raghavendra\\anaconda3\\anaconda\\lib\\site-packages (from pyautogui->pywhatkit) (1.0.4)\n",
      "Requirement already satisfied: mouseinfo in c:\\users\\raghavendra\\anaconda3\\anaconda\\lib\\site-packages (from pyautogui->pywhatkit) (0.1.3)\n",
      "Requirement already satisfied: pymsgbox in c:\\users\\raghavendra\\anaconda3\\anaconda\\lib\\site-packages (from pyautogui->pywhatkit) (1.0.9)\n",
      "Requirement already satisfied: beautifulsoup4 in c:\\users\\raghavendra\\anaconda3\\anaconda\\lib\\site-packages (from wikipedia->pywhatkit) (4.9.3)\n",
      "Requirement already satisfied: urllib3!=1.25.0,!=1.25.1,<1.26,>=1.21.1 in c:\\users\\raghavendra\\anaconda3\\anaconda\\lib\\site-packages (from requests->pywhatkit) (1.25.11)\n",
      "Requirement already satisfied: certifi>=2017.4.17 in c:\\users\\raghavendra\\anaconda3\\anaconda\\lib\\site-packages (from requests->pywhatkit) (2020.6.20)\n",
      "Requirement already satisfied: idna<3,>=2.5 in c:\\users\\raghavendra\\anaconda3\\anaconda\\lib\\site-packages (from requests->pywhatkit) (2.10)\n",
      "Requirement already satisfied: chardet<4,>=3.0.2 in c:\\users\\raghavendra\\anaconda3\\anaconda\\lib\\site-packages (from requests->pywhatkit) (3.0.4)\n",
      "Requirement already satisfied: pyrect in c:\\users\\raghavendra\\anaconda3\\anaconda\\lib\\site-packages (from pygetwindow>=0.0.5->pyautogui->pywhatkit) (0.1.4)\n",
      "Requirement already satisfied: pyperclip in c:\\users\\raghavendra\\anaconda3\\anaconda\\lib\\site-packages (from mouseinfo->pyautogui->pywhatkit) (1.8.2)\n",
      "Requirement already satisfied: soupsieve>1.2; python_version >= \"3.0\" in c:\\users\\raghavendra\\anaconda3\\anaconda\\lib\\site-packages (from beautifulsoup4->wikipedia->pywhatkit) (2.0.1)\n",
      "Note: you may need to restart the kernel to use updated packages.\n"
     ]
    }
   ],
   "source": [
    "pip install pywhatkit"
   ]
  },
  {
   "cell_type": "code",
   "execution_count": 6,
   "metadata": {},
   "outputs": [
    {
     "name": "stdout",
     "output_type": "stream",
     "text": [
      "Requirement already satisfied: pyttsx3 in c:\\users\\raghavendra\\anaconda3\\anaconda\\lib\\site-packages (2.90)\n",
      "Requirement already satisfied: comtypes; platform_system == \"Windows\" in c:\\users\\raghavendra\\anaconda3\\anaconda\\lib\\site-packages (from pyttsx3) (1.1.7)\n",
      "Requirement already satisfied: pypiwin32; platform_system == \"Windows\" in c:\\users\\raghavendra\\anaconda3\\anaconda\\lib\\site-packages (from pyttsx3) (223)\n",
      "Requirement already satisfied: pywin32; platform_system == \"Windows\" in c:\\users\\raghavendra\\anaconda3\\anaconda\\lib\\site-packages (from pyttsx3) (227)\n",
      "Note: you may need to restart the kernel to use updated packages.\n"
     ]
    }
   ],
   "source": [
    "pip install pyttsx3"
   ]
  },
  {
   "cell_type": "code",
   "execution_count": null,
   "metadata": {},
   "outputs": [],
   "source": [
    "#importig libraies\n",
    "import speech_recognition as sr\n",
    "import pyttsx3\n",
    "import pywhatkit\n",
    "import datetime\n",
    "import wikipedia\n",
    "import pyjokes\n",
    "import sys\n",
    "import webbrowser\n",
    "from datetime import date"
   ]
  },
  {
   "cell_type": "code",
   "execution_count": 8,
   "metadata": {
    "scrolled": true
   },
   "outputs": [
    {
     "name": "stdout",
     "output_type": "stream",
     "text": [
      "Requirement already satisfied: pipwin in c:\\users\\raghavendra\\anaconda3\\anaconda\\lib\\site-packages (0.5.1)\n",
      "Requirement already satisfied: packaging in c:\\users\\raghavendra\\anaconda3\\anaconda\\lib\\site-packages (from pipwin) (20.4)\n",
      "Requirement already satisfied: beautifulsoup4>=4.9.0 in c:\\users\\raghavendra\\anaconda3\\anaconda\\lib\\site-packages (from pipwin) (4.9.3)\n",
      "Requirement already satisfied: six in c:\\users\\raghavendra\\anaconda3\\anaconda\\lib\\site-packages (from pipwin) (1.15.0)\n",
      "Requirement already satisfied: requests in c:\\users\\raghavendra\\anaconda3\\anaconda\\lib\\site-packages (from pipwin) (2.24.0)\n",
      "Requirement already satisfied: js2py in c:\\users\\raghavendra\\anaconda3\\anaconda\\lib\\site-packages (from pipwin) (0.71)\n",
      "Requirement already satisfied: pyprind in c:\\users\\raghavendra\\anaconda3\\anaconda\\lib\\site-packages (from pipwin) (2.11.3)\n",
      "Requirement already satisfied: docopt in c:\\users\\raghavendra\\anaconda3\\anaconda\\lib\\site-packages (from pipwin) (0.6.2)\n",
      "Requirement already satisfied: pySmartDL>=1.3.1; python_version >= \"3.4\" in c:\\users\\raghavendra\\anaconda3\\anaconda\\lib\\site-packages (from pipwin) (1.3.4)\n",
      "Requirement already satisfied: pyparsing>=2.0.2 in c:\\users\\raghavendra\\anaconda3\\anaconda\\lib\\site-packages (from packaging->pipwin) (2.4.7)\n",
      "Requirement already satisfied: soupsieve>1.2; python_version >= \"3.0\" in c:\\users\\raghavendra\\anaconda3\\anaconda\\lib\\site-packages (from beautifulsoup4>=4.9.0->pipwin) (2.0.1)\n",
      "Requirement already satisfied: urllib3!=1.25.0,!=1.25.1,<1.26,>=1.21.1 in c:\\users\\raghavendra\\anaconda3\\anaconda\\lib\\site-packages (from requests->pipwin) (1.25.11)\n",
      "Requirement already satisfied: certifi>=2017.4.17 in c:\\users\\raghavendra\\anaconda3\\anaconda\\lib\\site-packages (from requests->pipwin) (2020.6.20)\n",
      "Requirement already satisfied: idna<3,>=2.5 in c:\\users\\raghavendra\\anaconda3\\anaconda\\lib\\site-packages (from requests->pipwin) (2.10)\n",
      "Requirement already satisfied: chardet<4,>=3.0.2 in c:\\users\\raghavendra\\anaconda3\\anaconda\\lib\\site-packages (from requests->pipwin) (3.0.4)\n",
      "Requirement already satisfied: pyjsparser>=2.5.1 in c:\\users\\raghavendra\\anaconda3\\anaconda\\lib\\site-packages (from js2py->pipwin) (2.7.1)\n",
      "Requirement already satisfied: tzlocal>=1.2 in c:\\users\\raghavendra\\anaconda3\\anaconda\\lib\\site-packages (from js2py->pipwin) (4.1)\n",
      "Requirement already satisfied: tzdata; platform_system == \"Windows\" in c:\\users\\raghavendra\\anaconda3\\anaconda\\lib\\site-packages (from tzlocal>=1.2->js2py->pipwin) (2021.5)\n",
      "Requirement already satisfied: pytz-deprecation-shim in c:\\users\\raghavendra\\anaconda3\\anaconda\\lib\\site-packages (from tzlocal>=1.2->js2py->pipwin) (0.1.0.post0)\n",
      "Requirement already satisfied: backports.zoneinfo; python_version < \"3.9\" in c:\\users\\raghavendra\\anaconda3\\anaconda\\lib\\site-packages (from tzlocal>=1.2->js2py->pipwin) (0.2.1)\n",
      "Note: you may need to restart the kernel to use updated packages.\n"
     ]
    }
   ],
   "source": [
    "pip install pipwin"
   ]
  },
  {
   "cell_type": "code",
   "execution_count": 7,
   "metadata": {},
   "outputs": [
    {
     "name": "stdout",
     "output_type": "stream",
     "text": [
      "Collecting package metadata (current_repodata.json): ...working... done\n",
      "Solving environment: ...working... done\n",
      "\n",
      "# All requested packages already installed.\n",
      "\n",
      "\n",
      "Note: you may need to restart the kernel to use updated packages.\n"
     ]
    }
   ],
   "source": [
    "conda install PyAudio"
   ]
  },
  {
   "cell_type": "code",
   "execution_count": null,
   "metadata": {},
   "outputs": [],
   "source": [
    "engine=pyttsx3.init()\n",
    "engine.setProperty(\"rate\", 150)\n",
    "voices = engine.getProperty(\"voices\")\n",
    "engine.setProperty('voice', voices [1].id)\n",
    "recognizer=sr.Recognizer()\n",
    "def engine_talk(text):\n",
    "    engine.say(text)\n",
    "    engine.runAndWait()\n",
    "def run_alexa():\n",
    "    with sr.Microphone() as source:\n",
    "        recognizer.adjust_for_ambient_noise(source,duration=1)\n",
    "        print('\\n')\n",
    "        print(\"Start Speaking!!\")\n",
    "        engine_talk('listening.. ')\n",
    "        recordedaudio=recognizer.listen(source)\n",
    "    try:\n",
    "        command=recognizer.recognize_google(recordedaudio,language='en-in')\n",
    "        command = command.lower()\n",
    "        if 'alexa' in command :\n",
    "            command = command.replace('alexa', '')\n",
    "            print('you said'+command)\n",
    "        else :\n",
    "            print('you said : '+command)\n",
    "        if 'hello' in command :\n",
    "            print('hello how can i helpp you ??')\n",
    "            engine_talk('hello, how can i help you ??')\n",
    "        elif 'who are you' in command :\n",
    "            print('I am mini alexa a k a your virtual assistant master')\n",
    "            engine_talk('I am mini alexa a k a your virtual assistant master. how can i help you ??')\n",
    "\n",
    "        elif 'can you do' in command :\n",
    "            print('''i can play songs on youtube , tell you a joke, search on wikipedia, tell date and time,find your location, locate area on map,\n",
    " open different websites like instagram, youtube,gmail, git hub, stack overflow and searches on google.How may i help you ??''')\n",
    "            engine_talk('''i can play songs on youtube , tell you a joke, search on wikipedia, tell date and time,find your location, locate area on map,\n",
    " open different websites like insta gram, youtube,gmail, git hub, stack overflow and searches on google. How may i help you ??''')\n",
    "        elif 'play' in command:\n",
    "            song = command.replace('play', '')\n",
    "            print('Playing' +song)\n",
    "            engine_talk('Playing' +song)\n",
    "            pywhatkit.playonyt(song)\n",
    "        elif 'date and time' in command :\n",
    "            today = date.today()\n",
    "            time = datetime.datetime.now().strftime('%I:%M %p')\n",
    " # Textual month, day and year\n",
    "            d2 = today.strftime(\"%B %d, %Y\")\n",
    "            print(\"Today's Date is \", d2, 'Current time is', time)\n",
    "            engine_talk('Today is : '+ d2)\n",
    "            engine_talk('and current time is '+ time)\n",
    "        elif 'time and date' in command :\n",
    "            today = date.today()\n",
    "            time = datetime.datetime.now().strftime('%I:%M %p')\n",
    " # Textual month, day and year\n",
    "            d2 = today.strftime(\"%B %d, %Y\")\n",
    "            print(\"Today's Date is \", d2, 'Current time is', time)\n",
    "            engine_talk( 'Current time is '+ time)\n",
    "            engine_talk('and Today is : '+ d2)\n",
    "        elif 'time' in command:\n",
    "            time = datetime.datetime.now().strftime('%I:%M %p')\n",
    "            print('The current time is' +time)\n",
    "            engine_talk('The current time is')\n",
    "            engine_talk(time)\n",
    "        elif 'date' in command:\n",
    "            today = date.today()\n",
    "            print(\"Today's date:\", today)\n",
    " # Textual month, day and year\n",
    "            d2 = today.strftime(\"%B %d, %Y\")\n",
    "            print(\"Today's Date is \", d2)\n",
    "            engine_talk('The todays date is')\n",
    "            engine_talk(d2)\n",
    "\n",
    "        elif 'tell me about' in command:\n",
    "            name = command.replace('tell me about' , '')\n",
    "            info = wikipedia.summary(name, 1)\n",
    "            print(info)\n",
    "            engine_talk(info)\n",
    "        elif 'wikipedia' in command:\n",
    "            name = command.replace('wikipedia' , '')\n",
    "            info = wikipedia.summary(name, 1)\n",
    "            print(info)\n",
    "            engine_talk(info)\n",
    "        elif 'what is' in command:\n",
    "            name = command.replace('what is ' , '')\n",
    "            info = wikipedia.summary(name, 1)\n",
    "            print(info)\n",
    "            engine_talk(info)\n",
    "        elif 'who is ' in command:\n",
    "            name = command.replace('who is' , '')\n",
    "            info = wikipedia.summary(name, 1)\n",
    "            print(info)\n",
    "            engine_talk(info)\n",
    "        elif 'what is ' in command :\n",
    "            search = 'https://www.google.com/search?q='+command\n",
    "            print(' Here is what i found on the internet..')\n",
    "            engine_talk('searching... Here is what i found on the internet..')\n",
    "            webbrowser.open(search)\n",
    "        elif 'time' in command:\n",
    "            time = datetime.datetime.now().strftime('%I:%M %p')\n",
    "            print('The current time is' +time)\n",
    "            engine_talk('The current time is')\n",
    "            engine_talk(time)\n",
    "        elif 'date' in command:\n",
    "            today = date.today()\n",
    "            print(\"Today's date:\", today)\n",
    "            d2 = today.strftime(\"%B %d, %Y\")\n",
    "            print(\"Today's Date is \", d2)\n",
    "            engine_talk('The todays date is')\n",
    "            engine_talk(d2)\n",
    "        elif 'tell me about' in command:\n",
    "            name = command.replace('tell me about' , '')\n",
    "            info = wikipedia.summary(name, 1)\n",
    "            print(info)\n",
    "            engine_talk(info)\n",
    "        elif 'wikipedia' in command:\n",
    "            name = command.replace('wikipedia' , '')\n",
    "            info = wikipedia.summary(name, 1)\n",
    "            print(info)\n",
    "            engine_talk(info)\n",
    "        elif 'what is' in command:\n",
    "            name = command.replace('what is ' , '')\n",
    "            info = wikipedia.summary(name, 1)\n",
    "            print(info)\n",
    "            engine_talk(info)\n",
    "        elif 'who is ' in command:\n",
    "            name = command.replace('who is' , '')\n",
    "            info = wikipedia.summary(name, 1)\n",
    "            print(info)\n",
    "            engine_talk(info)\n",
    "        elif 'what is ' in command :\n",
    "            search = 'https://www.google.com/search?q='+command\n",
    "            print(' Here is what i found on the internet..')\n",
    "            engine_talk('searching... Here is what i found on the internet..')\n",
    "            webbrowser.open(search)\n",
    "        elif 'joke' in command:\n",
    "            joke = pyjokes.get_joke()\n",
    "            print(joke)\n",
    "            engine_talk(joke)\n",
    "        elif 'search' in command :\n",
    "            search = 'https://www.google.com/search?q='+command\n",
    "            engine_talk('searching... ')\n",
    "            webbrowser.open(search)\n",
    "        elif \"my location\" in command:\n",
    "            url = \"https://www.google.com/maps/search/Where+am+I+?/\"\n",
    "            webbrowser.get().open(url)\n",
    "            engine_talk(\"You must be somewhere near here, as per Google maps\")\n",
    "        elif 'locate ' in command :\n",
    "            engine_talk('locating ...')\n",
    "            loc = command.replace('locate', '')\n",
    "        if 'on map' in loc :\n",
    "            loc= loc.replace('on map',' ')\n",
    "            url = 'https://google.nl/maps/place/'+loc+'/&amp;'\n",
    "            webbrowser.get().open(url)\n",
    "            print('Here is the location of '+loc)\n",
    "            engine_talk('Here is the location of '+loc)\n",
    "        elif 'on map' in command :\n",
    "            engine_talk('locating ...')\n",
    "            loc = command.split(\" \")\n",
    "            print(loc[1])\n",
    "            url = 'https://google.nl/maps/place/'+loc[1] +'/&amp;'\n",
    "            webbrowser.get().open(url)\n",
    "            print('Here is the location of '+loc[1])\n",
    "            engine_talk('Here is the location of '+loc[1])\n",
    "        elif 'location of' in command :\n",
    "            engine_talk('locating ...')\n",
    "            loc = command.replace('find location of', '')\n",
    "            url = 'https://google.nl/maps/place/'+loc+'/&amp;'\n",
    "            webbrowser.get().open(url)\n",
    "            print('Here is the location of '+loc)\n",
    "            engine_talk('Here is the location of '+loc)\n",
    "        elif 'where is ' in command :\n",
    "                engine_talk('locating ...')\n",
    "                loc = command.replace('where is', '')\n",
    "                url = 'https://google.nl/maps/place/'+loc+'/&amp;'\n",
    "                webbrowser.get().open(url)\n",
    "                print('Here is the location of '+loc)\n",
    "                engine_talk('Here is the location of '+loc)\n",
    "        elif 'bootcamps' in command :\n",
    "                search = 'http://tathastu.twowaits.in/index.html#courses'\n",
    "                engine_talk('opening boot camps')\n",
    "                webbrowser.open(search)\n",
    "        elif 'boot camps' in command :\n",
    "                search = 'http://tathastu.twowaits.in/index.html#courses'\n",
    "                engine_talk('opening boot camps')\n",
    "                webbrowser.open(search)\n",
    "        elif 'python bootcamp' in command :\n",
    "                search = 'http://tathastu.twowaits.in/kickstart_python.html'\n",
    "                engine_talk('showing pythonboot camp')\n",
    "                webbrowser.open(search)\n",
    "        elif 'data science bootcamp' in command :\n",
    "                search = 'http://tathastu.twowaits.in/kickstart_data_science.html'\n",
    "                engine_talk('showing data science and ml bootcamp')\n",
    "                webbrowser.open(search)\n",
    "        elif 'open google' in command :\n",
    "                    print('opening google ...')\n",
    "                    engine_talk('opening google..')\n",
    "                    webbrowser.open_new('https://www.google.co.in/')\n",
    "        elif 'gmail' in command :\n",
    "                print('opening gmail ...')\n",
    "                engine_talk('opening gmail..')\n",
    "                webbrowser.open_new('https://mail.google.com/')\n",
    "        elif 'open youtube' in command :\n",
    "                print('opening you tube ...')\n",
    "                engine_talk('opening you tube..')\n",
    "                webbrowser.open_new('https://www.youtube.com/')\n",
    "        elif 'open instagram' in command :\n",
    "                print('opening instagram ...')\n",
    "                engine_talk('opening insta gram...')\n",
    "                webbrowser.open_new('https://www.instagram.com/')\n",
    "        elif 'open stack overflow' in command :\n",
    "                    print('opening stackoverflow ...')\n",
    "                    engine_talk('opening stack overflow...')\n",
    "                    webbrowser.open_new('https://stackoverflow.com/')\n",
    "        elif 'open github' in command :\n",
    "                print('opening git hub ...')\n",
    "                engine_talk('opening git hub...')\n",
    "                webbrowser.open_new('https://github.com/')\n",
    "        elif 'bye' in command:\n",
    "                print('good bye, have a nice day !!')\n",
    "                engine_talk('good bye, have a nice day !!')\n",
    "                sys.exit()\n",
    "        elif 'thank you' in command :\n",
    "                print(\"your welcome\")\n",
    "                engine_talk('your welcome')\n",
    "        elif 'stop' in command:\n",
    "                print('good bye, have a nice day !!')\n",
    "                engine_talk('good bye, have a nice day !!')\n",
    "                sys.exit()\n",
    "        elif 'tata' in command:\n",
    "                print('good bye, have a nice day !!')\n",
    "                engine_talk('good bye, have a nice day !!')\n",
    "                sys.exit()\n",
    "        else:\n",
    "                print(' Here is what i found on the internet..')\n",
    "                engine_talk('Here is what i found on the internet..')\n",
    "                search = 'https://www.google.com/search?q='+command\n",
    "                webbrowser.open(search)\n",
    "    except Exception as ex:\n",
    "        print(ex)\n",
    "print('Clearing background noise...Please wait')\n",
    "engine_talk('Clearing background noise...Please wait')\n",
    "print('\\n')\n",
    "print(\"hello, i am mini alexa how can i help you ??\")\n",
    "engine_talk (\"hello i am mini alexa how can i help you \")\n",
    "while True:\n",
    "    run_alexa()"
   ]
  },
  {
   "cell_type": "code",
   "execution_count": null,
   "metadata": {},
   "outputs": [],
   "source": []
  },
  {
   "cell_type": "code",
   "execution_count": null,
   "metadata": {},
   "outputs": [],
   "source": []
  },
  {
   "cell_type": "code",
   "execution_count": null,
   "metadata": {},
   "outputs": [],
   "source": []
  }
 ],
 "metadata": {
  "kernelspec": {
   "display_name": "Python 3",
   "language": "python",
   "name": "python3"
  },
  "language_info": {
   "codemirror_mode": {
    "name": "ipython",
    "version": 3
   },
   "file_extension": ".py",
   "mimetype": "text/x-python",
   "name": "python",
   "nbconvert_exporter": "python",
   "pygments_lexer": "ipython3",
   "version": "3.8.5"
  }
 },
 "nbformat": 4,
 "nbformat_minor": 4
}
